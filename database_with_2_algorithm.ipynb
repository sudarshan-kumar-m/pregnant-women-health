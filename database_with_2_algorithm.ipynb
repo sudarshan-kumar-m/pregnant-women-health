{
  "nbformat": 4,
  "nbformat_minor": 0,
  "metadata": {
    "colab": {
      "provenance": [],
      "include_colab_link": true
    },
    "kernelspec": {
      "name": "python3",
      "display_name": "Python 3"
    },
    "language_info": {
      "name": "python"
    }
  },
  "cells": [
    {
      "cell_type": "markdown",
      "metadata": {
        "id": "view-in-github",
        "colab_type": "text"
      },
      "source": [
        "<a href=\"https://colab.research.google.com/github/sudarshan-kumar-m/pregnant-women-health/blob/main/database_with_2_algorithm.ipynb\" target=\"_parent\"><img src=\"https://colab.research.google.com/assets/colab-badge.svg\" alt=\"Open In Colab\"/></a>"
      ]
    },
    {
      "cell_type": "code",
      "execution_count": null,
      "metadata": {
        "id": "1mkUvxpgH7IF"
      },
      "outputs": [],
      "source": [
        "\n",
        "import numpy as np\n",
        "import pandas as pd\n",
        "from sklearn.preprocessing import LabelEncoder\n",
        "from sklearn.model_selection import train_test_split\n",
        "from sklearn.metrics import mean_absolute_error\n",
        "from sklearn.tree import DecisionTreeClassifier\n",
        "from sklearn import tree\n",
        "from sklearn.metrics import classification_report, confusion_matrix"
      ]
    },
    {
      "cell_type": "code",
      "source": [
        "df = pd.read_csv(\"dataset.csv\")\n",
        "df"
      ],
      "metadata": {
        "colab": {
          "base_uri": "https://localhost:8080/",
          "height": 423
        },
        "id": "daVUF6uiU3Ig",
        "outputId": "3620d72b-6a46-470a-e1b3-e78b14151da2"
      },
      "execution_count": null,
      "outputs": [
        {
          "output_type": "execute_result",
          "data": {
            "text/plain": [
              "      Age  SystolicBP  DiastolicBP    BS  BodyTemp  HeartRate  RiskLevel\n",
              "0      25         130           80  15.0      98.0         86  high risk\n",
              "1      35         140           90  13.0      98.0         70  high risk\n",
              "2      29          90           70   8.0     100.0         80  high risk\n",
              "3      30         140           85   7.0      98.0         70  high risk\n",
              "4      35         120           60   6.1      98.0         76   low risk\n",
              "...   ...         ...          ...   ...       ...        ...        ...\n",
              "1009   22         120           60  15.0      98.0         80  high risk\n",
              "1010   55         120           90  18.0      98.0         60  high risk\n",
              "1011   35          85           60  19.0      98.0         86  high risk\n",
              "1012   43         120           90  18.0      98.0         70  high risk\n",
              "1013   32         120           65   6.0     101.0         76   mid risk\n",
              "\n",
              "[1014 rows x 7 columns]"
            ],
            "text/html": [
              "\n",
              "  <div id=\"df-c483691d-bcd7-468c-810b-04e7d35b36c3\">\n",
              "    <div class=\"colab-df-container\">\n",
              "      <div>\n",
              "<style scoped>\n",
              "    .dataframe tbody tr th:only-of-type {\n",
              "        vertical-align: middle;\n",
              "    }\n",
              "\n",
              "    .dataframe tbody tr th {\n",
              "        vertical-align: top;\n",
              "    }\n",
              "\n",
              "    .dataframe thead th {\n",
              "        text-align: right;\n",
              "    }\n",
              "</style>\n",
              "<table border=\"1\" class=\"dataframe\">\n",
              "  <thead>\n",
              "    <tr style=\"text-align: right;\">\n",
              "      <th></th>\n",
              "      <th>Age</th>\n",
              "      <th>SystolicBP</th>\n",
              "      <th>DiastolicBP</th>\n",
              "      <th>BS</th>\n",
              "      <th>BodyTemp</th>\n",
              "      <th>HeartRate</th>\n",
              "      <th>RiskLevel</th>\n",
              "    </tr>\n",
              "  </thead>\n",
              "  <tbody>\n",
              "    <tr>\n",
              "      <th>0</th>\n",
              "      <td>25</td>\n",
              "      <td>130</td>\n",
              "      <td>80</td>\n",
              "      <td>15.0</td>\n",
              "      <td>98.0</td>\n",
              "      <td>86</td>\n",
              "      <td>high risk</td>\n",
              "    </tr>\n",
              "    <tr>\n",
              "      <th>1</th>\n",
              "      <td>35</td>\n",
              "      <td>140</td>\n",
              "      <td>90</td>\n",
              "      <td>13.0</td>\n",
              "      <td>98.0</td>\n",
              "      <td>70</td>\n",
              "      <td>high risk</td>\n",
              "    </tr>\n",
              "    <tr>\n",
              "      <th>2</th>\n",
              "      <td>29</td>\n",
              "      <td>90</td>\n",
              "      <td>70</td>\n",
              "      <td>8.0</td>\n",
              "      <td>100.0</td>\n",
              "      <td>80</td>\n",
              "      <td>high risk</td>\n",
              "    </tr>\n",
              "    <tr>\n",
              "      <th>3</th>\n",
              "      <td>30</td>\n",
              "      <td>140</td>\n",
              "      <td>85</td>\n",
              "      <td>7.0</td>\n",
              "      <td>98.0</td>\n",
              "      <td>70</td>\n",
              "      <td>high risk</td>\n",
              "    </tr>\n",
              "    <tr>\n",
              "      <th>4</th>\n",
              "      <td>35</td>\n",
              "      <td>120</td>\n",
              "      <td>60</td>\n",
              "      <td>6.1</td>\n",
              "      <td>98.0</td>\n",
              "      <td>76</td>\n",
              "      <td>low risk</td>\n",
              "    </tr>\n",
              "    <tr>\n",
              "      <th>...</th>\n",
              "      <td>...</td>\n",
              "      <td>...</td>\n",
              "      <td>...</td>\n",
              "      <td>...</td>\n",
              "      <td>...</td>\n",
              "      <td>...</td>\n",
              "      <td>...</td>\n",
              "    </tr>\n",
              "    <tr>\n",
              "      <th>1009</th>\n",
              "      <td>22</td>\n",
              "      <td>120</td>\n",
              "      <td>60</td>\n",
              "      <td>15.0</td>\n",
              "      <td>98.0</td>\n",
              "      <td>80</td>\n",
              "      <td>high risk</td>\n",
              "    </tr>\n",
              "    <tr>\n",
              "      <th>1010</th>\n",
              "      <td>55</td>\n",
              "      <td>120</td>\n",
              "      <td>90</td>\n",
              "      <td>18.0</td>\n",
              "      <td>98.0</td>\n",
              "      <td>60</td>\n",
              "      <td>high risk</td>\n",
              "    </tr>\n",
              "    <tr>\n",
              "      <th>1011</th>\n",
              "      <td>35</td>\n",
              "      <td>85</td>\n",
              "      <td>60</td>\n",
              "      <td>19.0</td>\n",
              "      <td>98.0</td>\n",
              "      <td>86</td>\n",
              "      <td>high risk</td>\n",
              "    </tr>\n",
              "    <tr>\n",
              "      <th>1012</th>\n",
              "      <td>43</td>\n",
              "      <td>120</td>\n",
              "      <td>90</td>\n",
              "      <td>18.0</td>\n",
              "      <td>98.0</td>\n",
              "      <td>70</td>\n",
              "      <td>high risk</td>\n",
              "    </tr>\n",
              "    <tr>\n",
              "      <th>1013</th>\n",
              "      <td>32</td>\n",
              "      <td>120</td>\n",
              "      <td>65</td>\n",
              "      <td>6.0</td>\n",
              "      <td>101.0</td>\n",
              "      <td>76</td>\n",
              "      <td>mid risk</td>\n",
              "    </tr>\n",
              "  </tbody>\n",
              "</table>\n",
              "<p>1014 rows × 7 columns</p>\n",
              "</div>\n",
              "      <button class=\"colab-df-convert\" onclick=\"convertToInteractive('df-c483691d-bcd7-468c-810b-04e7d35b36c3')\"\n",
              "              title=\"Convert this dataframe to an interactive table.\"\n",
              "              style=\"display:none;\">\n",
              "        \n",
              "  <svg xmlns=\"http://www.w3.org/2000/svg\" height=\"24px\"viewBox=\"0 0 24 24\"\n",
              "       width=\"24px\">\n",
              "    <path d=\"M0 0h24v24H0V0z\" fill=\"none\"/>\n",
              "    <path d=\"M18.56 5.44l.94 2.06.94-2.06 2.06-.94-2.06-.94-.94-2.06-.94 2.06-2.06.94zm-11 1L8.5 8.5l.94-2.06 2.06-.94-2.06-.94L8.5 2.5l-.94 2.06-2.06.94zm10 10l.94 2.06.94-2.06 2.06-.94-2.06-.94-.94-2.06-.94 2.06-2.06.94z\"/><path d=\"M17.41 7.96l-1.37-1.37c-.4-.4-.92-.59-1.43-.59-.52 0-1.04.2-1.43.59L10.3 9.45l-7.72 7.72c-.78.78-.78 2.05 0 2.83L4 21.41c.39.39.9.59 1.41.59.51 0 1.02-.2 1.41-.59l7.78-7.78 2.81-2.81c.8-.78.8-2.07 0-2.86zM5.41 20L4 18.59l7.72-7.72 1.47 1.35L5.41 20z\"/>\n",
              "  </svg>\n",
              "      </button>\n",
              "      \n",
              "  <style>\n",
              "    .colab-df-container {\n",
              "      display:flex;\n",
              "      flex-wrap:wrap;\n",
              "      gap: 12px;\n",
              "    }\n",
              "\n",
              "    .colab-df-convert {\n",
              "      background-color: #E8F0FE;\n",
              "      border: none;\n",
              "      border-radius: 50%;\n",
              "      cursor: pointer;\n",
              "      display: none;\n",
              "      fill: #1967D2;\n",
              "      height: 32px;\n",
              "      padding: 0 0 0 0;\n",
              "      width: 32px;\n",
              "    }\n",
              "\n",
              "    .colab-df-convert:hover {\n",
              "      background-color: #E2EBFA;\n",
              "      box-shadow: 0px 1px 2px rgba(60, 64, 67, 0.3), 0px 1px 3px 1px rgba(60, 64, 67, 0.15);\n",
              "      fill: #174EA6;\n",
              "    }\n",
              "\n",
              "    [theme=dark] .colab-df-convert {\n",
              "      background-color: #3B4455;\n",
              "      fill: #D2E3FC;\n",
              "    }\n",
              "\n",
              "    [theme=dark] .colab-df-convert:hover {\n",
              "      background-color: #434B5C;\n",
              "      box-shadow: 0px 1px 3px 1px rgba(0, 0, 0, 0.15);\n",
              "      filter: drop-shadow(0px 1px 2px rgba(0, 0, 0, 0.3));\n",
              "      fill: #FFFFFF;\n",
              "    }\n",
              "  </style>\n",
              "\n",
              "      <script>\n",
              "        const buttonEl =\n",
              "          document.querySelector('#df-c483691d-bcd7-468c-810b-04e7d35b36c3 button.colab-df-convert');\n",
              "        buttonEl.style.display =\n",
              "          google.colab.kernel.accessAllowed ? 'block' : 'none';\n",
              "\n",
              "        async function convertToInteractive(key) {\n",
              "          const element = document.querySelector('#df-c483691d-bcd7-468c-810b-04e7d35b36c3');\n",
              "          const dataTable =\n",
              "            await google.colab.kernel.invokeFunction('convertToInteractive',\n",
              "                                                     [key], {});\n",
              "          if (!dataTable) return;\n",
              "\n",
              "          const docLinkHtml = 'Like what you see? Visit the ' +\n",
              "            '<a target=\"_blank\" href=https://colab.research.google.com/notebooks/data_table.ipynb>data table notebook</a>'\n",
              "            + ' to learn more about interactive tables.';\n",
              "          element.innerHTML = '';\n",
              "          dataTable['output_type'] = 'display_data';\n",
              "          await google.colab.output.renderOutput(dataTable, element);\n",
              "          const docLink = document.createElement('div');\n",
              "          docLink.innerHTML = docLinkHtml;\n",
              "          element.appendChild(docLink);\n",
              "        }\n",
              "      </script>\n",
              "    </div>\n",
              "  </div>\n",
              "  "
            ]
          },
          "metadata": {},
          "execution_count": 2
        }
      ]
    },
    {
      "cell_type": "code",
      "source": [
        "data=['Age','SystolicBP','DiastolicBP','BS','BodyTemp','HeartRate']\n",
        "x=df[data]\n",
        "target=['RiskLevel']\n",
        "y=df[target]"
      ],
      "metadata": {
        "id": "exrQQZnGepVN"
      },
      "execution_count": null,
      "outputs": []
    },
    {
      "cell_type": "code",
      "source": [],
      "metadata": {
        "id": "CIAMAfDygYQu"
      },
      "execution_count": null,
      "outputs": []
    },
    {
      "cell_type": "code",
      "source": [],
      "metadata": {
        "id": "L2Ugj0CJgjSV"
      },
      "execution_count": null,
      "outputs": []
    },
    {
      "cell_type": "code",
      "source": [
        "x_train, x_test, y_train, y_test =train_test_split(x,y,test_size=0.2)"
      ],
      "metadata": {
        "id": "O_nxugSug1nj"
      },
      "execution_count": null,
      "outputs": []
    },
    {
      "cell_type": "code",
      "source": [
        "len(x_train)"
      ],
      "metadata": {
        "colab": {
          "base_uri": "https://localhost:8080/"
        },
        "id": "q-XhWpiDkqnn",
        "outputId": "ff417f50-f4e4-49bc-d3d4-27f253a7a340"
      },
      "execution_count": null,
      "outputs": [
        {
          "output_type": "execute_result",
          "data": {
            "text/plain": [
              "811"
            ]
          },
          "metadata": {},
          "execution_count": 5
        }
      ]
    },
    {
      "cell_type": "code",
      "source": [
        "len(x_test)"
      ],
      "metadata": {
        "colab": {
          "base_uri": "https://localhost:8080/"
        },
        "id": "jlUJoTj0kvks",
        "outputId": "9dd7f648-64b2-4f89-b967-e9c6f852e8a9"
      },
      "execution_count": null,
      "outputs": [
        {
          "output_type": "execute_result",
          "data": {
            "text/plain": [
              "203"
            ]
          },
          "metadata": {},
          "execution_count": 6
        }
      ]
    },
    {
      "cell_type": "code",
      "source": [
        "clf=DecisionTreeClassifier()"
      ],
      "metadata": {
        "id": "qo8hMv5ooZHt"
      },
      "execution_count": null,
      "outputs": []
    },
    {
      "cell_type": "code",
      "source": [
        "clf.fit(x_train,y_train)"
      ],
      "metadata": {
        "id": "vvVpCXcFofNK",
        "colab": {
          "base_uri": "https://localhost:8080/"
        },
        "outputId": "2ad9b864-9ce6-4717-c937-1a1430ea0274"
      },
      "execution_count": null,
      "outputs": [
        {
          "output_type": "execute_result",
          "data": {
            "text/plain": [
              "DecisionTreeClassifier()"
            ]
          },
          "metadata": {},
          "execution_count": 8
        }
      ]
    },
    {
      "cell_type": "code",
      "source": [
        "x_train"
      ],
      "metadata": {
        "colab": {
          "base_uri": "https://localhost:8080/",
          "height": 423
        },
        "id": "SIGea7xppxqr",
        "outputId": "bb4e5ca7-50dd-40ea-92dc-b994bb8dd6b3"
      },
      "execution_count": null,
      "outputs": [
        {
          "output_type": "execute_result",
          "data": {
            "text/plain": [
              "      Age  SystolicBP  DiastolicBP    BS  BodyTemp  HeartRate\n",
              "259    21         120           80   6.9      98.0         76\n",
              "1006   17          85           60   6.3     102.0         86\n",
              "958    37         120           90  11.0      98.0         88\n",
              "611    23         120           90   7.5      98.0         60\n",
              "946    13          90           65   7.5     101.0         80\n",
              "...   ...         ...          ...   ...       ...        ...\n",
              "584    32         140           90  18.0      98.0         88\n",
              "443    32         120           90   6.8      98.0         70\n",
              "27     22         100           65   7.2      98.0         70\n",
              "45     32         120           90   7.5      98.0         70\n",
              "171    12          90           60   7.9     102.0         66\n",
              "\n",
              "[811 rows x 6 columns]"
            ],
            "text/html": [
              "\n",
              "  <div id=\"df-ebcdebfa-2de2-4354-92be-3880bf1a23c6\">\n",
              "    <div class=\"colab-df-container\">\n",
              "      <div>\n",
              "<style scoped>\n",
              "    .dataframe tbody tr th:only-of-type {\n",
              "        vertical-align: middle;\n",
              "    }\n",
              "\n",
              "    .dataframe tbody tr th {\n",
              "        vertical-align: top;\n",
              "    }\n",
              "\n",
              "    .dataframe thead th {\n",
              "        text-align: right;\n",
              "    }\n",
              "</style>\n",
              "<table border=\"1\" class=\"dataframe\">\n",
              "  <thead>\n",
              "    <tr style=\"text-align: right;\">\n",
              "      <th></th>\n",
              "      <th>Age</th>\n",
              "      <th>SystolicBP</th>\n",
              "      <th>DiastolicBP</th>\n",
              "      <th>BS</th>\n",
              "      <th>BodyTemp</th>\n",
              "      <th>HeartRate</th>\n",
              "    </tr>\n",
              "  </thead>\n",
              "  <tbody>\n",
              "    <tr>\n",
              "      <th>259</th>\n",
              "      <td>21</td>\n",
              "      <td>120</td>\n",
              "      <td>80</td>\n",
              "      <td>6.9</td>\n",
              "      <td>98.0</td>\n",
              "      <td>76</td>\n",
              "    </tr>\n",
              "    <tr>\n",
              "      <th>1006</th>\n",
              "      <td>17</td>\n",
              "      <td>85</td>\n",
              "      <td>60</td>\n",
              "      <td>6.3</td>\n",
              "      <td>102.0</td>\n",
              "      <td>86</td>\n",
              "    </tr>\n",
              "    <tr>\n",
              "      <th>958</th>\n",
              "      <td>37</td>\n",
              "      <td>120</td>\n",
              "      <td>90</td>\n",
              "      <td>11.0</td>\n",
              "      <td>98.0</td>\n",
              "      <td>88</td>\n",
              "    </tr>\n",
              "    <tr>\n",
              "      <th>611</th>\n",
              "      <td>23</td>\n",
              "      <td>120</td>\n",
              "      <td>90</td>\n",
              "      <td>7.5</td>\n",
              "      <td>98.0</td>\n",
              "      <td>60</td>\n",
              "    </tr>\n",
              "    <tr>\n",
              "      <th>946</th>\n",
              "      <td>13</td>\n",
              "      <td>90</td>\n",
              "      <td>65</td>\n",
              "      <td>7.5</td>\n",
              "      <td>101.0</td>\n",
              "      <td>80</td>\n",
              "    </tr>\n",
              "    <tr>\n",
              "      <th>...</th>\n",
              "      <td>...</td>\n",
              "      <td>...</td>\n",
              "      <td>...</td>\n",
              "      <td>...</td>\n",
              "      <td>...</td>\n",
              "      <td>...</td>\n",
              "    </tr>\n",
              "    <tr>\n",
              "      <th>584</th>\n",
              "      <td>32</td>\n",
              "      <td>140</td>\n",
              "      <td>90</td>\n",
              "      <td>18.0</td>\n",
              "      <td>98.0</td>\n",
              "      <td>88</td>\n",
              "    </tr>\n",
              "    <tr>\n",
              "      <th>443</th>\n",
              "      <td>32</td>\n",
              "      <td>120</td>\n",
              "      <td>90</td>\n",
              "      <td>6.8</td>\n",
              "      <td>98.0</td>\n",
              "      <td>70</td>\n",
              "    </tr>\n",
              "    <tr>\n",
              "      <th>27</th>\n",
              "      <td>22</td>\n",
              "      <td>100</td>\n",
              "      <td>65</td>\n",
              "      <td>7.2</td>\n",
              "      <td>98.0</td>\n",
              "      <td>70</td>\n",
              "    </tr>\n",
              "    <tr>\n",
              "      <th>45</th>\n",
              "      <td>32</td>\n",
              "      <td>120</td>\n",
              "      <td>90</td>\n",
              "      <td>7.5</td>\n",
              "      <td>98.0</td>\n",
              "      <td>70</td>\n",
              "    </tr>\n",
              "    <tr>\n",
              "      <th>171</th>\n",
              "      <td>12</td>\n",
              "      <td>90</td>\n",
              "      <td>60</td>\n",
              "      <td>7.9</td>\n",
              "      <td>102.0</td>\n",
              "      <td>66</td>\n",
              "    </tr>\n",
              "  </tbody>\n",
              "</table>\n",
              "<p>811 rows × 6 columns</p>\n",
              "</div>\n",
              "      <button class=\"colab-df-convert\" onclick=\"convertToInteractive('df-ebcdebfa-2de2-4354-92be-3880bf1a23c6')\"\n",
              "              title=\"Convert this dataframe to an interactive table.\"\n",
              "              style=\"display:none;\">\n",
              "        \n",
              "  <svg xmlns=\"http://www.w3.org/2000/svg\" height=\"24px\"viewBox=\"0 0 24 24\"\n",
              "       width=\"24px\">\n",
              "    <path d=\"M0 0h24v24H0V0z\" fill=\"none\"/>\n",
              "    <path d=\"M18.56 5.44l.94 2.06.94-2.06 2.06-.94-2.06-.94-.94-2.06-.94 2.06-2.06.94zm-11 1L8.5 8.5l.94-2.06 2.06-.94-2.06-.94L8.5 2.5l-.94 2.06-2.06.94zm10 10l.94 2.06.94-2.06 2.06-.94-2.06-.94-.94-2.06-.94 2.06-2.06.94z\"/><path d=\"M17.41 7.96l-1.37-1.37c-.4-.4-.92-.59-1.43-.59-.52 0-1.04.2-1.43.59L10.3 9.45l-7.72 7.72c-.78.78-.78 2.05 0 2.83L4 21.41c.39.39.9.59 1.41.59.51 0 1.02-.2 1.41-.59l7.78-7.78 2.81-2.81c.8-.78.8-2.07 0-2.86zM5.41 20L4 18.59l7.72-7.72 1.47 1.35L5.41 20z\"/>\n",
              "  </svg>\n",
              "      </button>\n",
              "      \n",
              "  <style>\n",
              "    .colab-df-container {\n",
              "      display:flex;\n",
              "      flex-wrap:wrap;\n",
              "      gap: 12px;\n",
              "    }\n",
              "\n",
              "    .colab-df-convert {\n",
              "      background-color: #E8F0FE;\n",
              "      border: none;\n",
              "      border-radius: 50%;\n",
              "      cursor: pointer;\n",
              "      display: none;\n",
              "      fill: #1967D2;\n",
              "      height: 32px;\n",
              "      padding: 0 0 0 0;\n",
              "      width: 32px;\n",
              "    }\n",
              "\n",
              "    .colab-df-convert:hover {\n",
              "      background-color: #E2EBFA;\n",
              "      box-shadow: 0px 1px 2px rgba(60, 64, 67, 0.3), 0px 1px 3px 1px rgba(60, 64, 67, 0.15);\n",
              "      fill: #174EA6;\n",
              "    }\n",
              "\n",
              "    [theme=dark] .colab-df-convert {\n",
              "      background-color: #3B4455;\n",
              "      fill: #D2E3FC;\n",
              "    }\n",
              "\n",
              "    [theme=dark] .colab-df-convert:hover {\n",
              "      background-color: #434B5C;\n",
              "      box-shadow: 0px 1px 3px 1px rgba(0, 0, 0, 0.15);\n",
              "      filter: drop-shadow(0px 1px 2px rgba(0, 0, 0, 0.3));\n",
              "      fill: #FFFFFF;\n",
              "    }\n",
              "  </style>\n",
              "\n",
              "      <script>\n",
              "        const buttonEl =\n",
              "          document.querySelector('#df-ebcdebfa-2de2-4354-92be-3880bf1a23c6 button.colab-df-convert');\n",
              "        buttonEl.style.display =\n",
              "          google.colab.kernel.accessAllowed ? 'block' : 'none';\n",
              "\n",
              "        async function convertToInteractive(key) {\n",
              "          const element = document.querySelector('#df-ebcdebfa-2de2-4354-92be-3880bf1a23c6');\n",
              "          const dataTable =\n",
              "            await google.colab.kernel.invokeFunction('convertToInteractive',\n",
              "                                                     [key], {});\n",
              "          if (!dataTable) return;\n",
              "\n",
              "          const docLinkHtml = 'Like what you see? Visit the ' +\n",
              "            '<a target=\"_blank\" href=https://colab.research.google.com/notebooks/data_table.ipynb>data table notebook</a>'\n",
              "            + ' to learn more about interactive tables.';\n",
              "          element.innerHTML = '';\n",
              "          dataTable['output_type'] = 'display_data';\n",
              "          await google.colab.output.renderOutput(dataTable, element);\n",
              "          const docLink = document.createElement('div');\n",
              "          docLink.innerHTML = docLinkHtml;\n",
              "          element.appendChild(docLink);\n",
              "        }\n",
              "      </script>\n",
              "    </div>\n",
              "  </div>\n",
              "  "
            ]
          },
          "metadata": {},
          "execution_count": 9
        }
      ]
    },
    {
      "cell_type": "code",
      "source": [
        "clf.predict(x_test)"
      ],
      "metadata": {
        "colab": {
          "base_uri": "https://localhost:8080/"
        },
        "id": "IRQrXtgyqkPf",
        "outputId": "73c2d836-bdc3-41e2-a635-ac2b14282181"
      },
      "execution_count": null,
      "outputs": [
        {
          "output_type": "execute_result",
          "data": {
            "text/plain": [
              "array(['mid risk', 'mid risk', 'mid risk', 'low risk', 'high risk',\n",
              "       'mid risk', 'mid risk', 'low risk', 'high risk', 'low risk',\n",
              "       'low risk', 'low risk', 'low risk', 'high risk', 'low risk',\n",
              "       'high risk', 'high risk', 'high risk', 'high risk', 'mid risk',\n",
              "       'low risk', 'mid risk', 'high risk', 'mid risk', 'mid risk',\n",
              "       'mid risk', 'low risk', 'mid risk', 'mid risk', 'low risk',\n",
              "       'high risk', 'low risk', 'high risk', 'mid risk', 'high risk',\n",
              "       'low risk', 'low risk', 'mid risk', 'mid risk', 'low risk',\n",
              "       'high risk', 'mid risk', 'high risk', 'mid risk', 'mid risk',\n",
              "       'low risk', 'high risk', 'low risk', 'low risk', 'mid risk',\n",
              "       'low risk', 'mid risk', 'mid risk', 'mid risk', 'low risk',\n",
              "       'high risk', 'mid risk', 'mid risk', 'low risk', 'low risk',\n",
              "       'high risk', 'low risk', 'low risk', 'mid risk', 'low risk',\n",
              "       'mid risk', 'low risk', 'mid risk', 'low risk', 'mid risk',\n",
              "       'low risk', 'high risk', 'low risk', 'low risk', 'mid risk',\n",
              "       'low risk', 'high risk', 'high risk', 'mid risk', 'high risk',\n",
              "       'low risk', 'mid risk', 'mid risk', 'high risk', 'high risk',\n",
              "       'high risk', 'high risk', 'low risk', 'mid risk', 'high risk',\n",
              "       'low risk', 'mid risk', 'high risk', 'low risk', 'low risk',\n",
              "       'low risk', 'mid risk', 'low risk', 'low risk', 'mid risk',\n",
              "       'high risk', 'low risk', 'mid risk', 'mid risk', 'low risk',\n",
              "       'high risk', 'mid risk', 'low risk', 'low risk', 'low risk',\n",
              "       'low risk', 'low risk', 'low risk', 'high risk', 'mid risk',\n",
              "       'low risk', 'high risk', 'high risk', 'high risk', 'low risk',\n",
              "       'low risk', 'mid risk', 'mid risk', 'mid risk', 'low risk',\n",
              "       'high risk', 'mid risk', 'mid risk', 'low risk', 'mid risk',\n",
              "       'low risk', 'high risk', 'low risk', 'low risk', 'low risk',\n",
              "       'low risk', 'low risk', 'low risk', 'mid risk', 'low risk',\n",
              "       'mid risk', 'low risk', 'low risk', 'mid risk', 'high risk',\n",
              "       'high risk', 'mid risk', 'mid risk', 'low risk', 'low risk',\n",
              "       'mid risk', 'low risk', 'high risk', 'low risk', 'low risk',\n",
              "       'mid risk', 'mid risk', 'low risk', 'low risk', 'mid risk',\n",
              "       'mid risk', 'high risk', 'mid risk', 'high risk', 'high risk',\n",
              "       'low risk', 'high risk', 'high risk', 'high risk', 'mid risk',\n",
              "       'low risk', 'low risk', 'low risk', 'low risk', 'mid risk',\n",
              "       'low risk', 'high risk', 'mid risk', 'mid risk', 'mid risk',\n",
              "       'high risk', 'low risk', 'low risk', 'mid risk', 'high risk',\n",
              "       'mid risk', 'low risk', 'mid risk', 'mid risk', 'mid risk',\n",
              "       'high risk', 'low risk', 'low risk', 'low risk', 'low risk',\n",
              "       'high risk', 'low risk', 'mid risk', 'mid risk', 'low risk',\n",
              "       'mid risk', 'high risk', 'mid risk'], dtype=object)"
            ]
          },
          "metadata": {},
          "execution_count": 10
        }
      ]
    },
    {
      "cell_type": "code",
      "source": [
        "y_test"
      ],
      "metadata": {
        "colab": {
          "base_uri": "https://localhost:8080/",
          "height": 423
        },
        "id": "9S9TEa-DrnyC",
        "outputId": "143e3a34-d5be-404c-ba9b-1ff8446e130c"
      },
      "execution_count": null,
      "outputs": [
        {
          "output_type": "execute_result",
          "data": {
            "text/plain": [
              "     RiskLevel\n",
              "864   mid risk\n",
              "742   mid risk\n",
              "820   mid risk\n",
              "289   low risk\n",
              "236  high risk\n",
              "..         ...\n",
              "570   mid risk\n",
              "793   mid risk\n",
              "764   mid risk\n",
              "237  high risk\n",
              "753   mid risk\n",
              "\n",
              "[203 rows x 1 columns]"
            ],
            "text/html": [
              "\n",
              "  <div id=\"df-b57b0e8a-0cf4-4e29-a32b-37557fd4f953\">\n",
              "    <div class=\"colab-df-container\">\n",
              "      <div>\n",
              "<style scoped>\n",
              "    .dataframe tbody tr th:only-of-type {\n",
              "        vertical-align: middle;\n",
              "    }\n",
              "\n",
              "    .dataframe tbody tr th {\n",
              "        vertical-align: top;\n",
              "    }\n",
              "\n",
              "    .dataframe thead th {\n",
              "        text-align: right;\n",
              "    }\n",
              "</style>\n",
              "<table border=\"1\" class=\"dataframe\">\n",
              "  <thead>\n",
              "    <tr style=\"text-align: right;\">\n",
              "      <th></th>\n",
              "      <th>RiskLevel</th>\n",
              "    </tr>\n",
              "  </thead>\n",
              "  <tbody>\n",
              "    <tr>\n",
              "      <th>864</th>\n",
              "      <td>mid risk</td>\n",
              "    </tr>\n",
              "    <tr>\n",
              "      <th>742</th>\n",
              "      <td>mid risk</td>\n",
              "    </tr>\n",
              "    <tr>\n",
              "      <th>820</th>\n",
              "      <td>mid risk</td>\n",
              "    </tr>\n",
              "    <tr>\n",
              "      <th>289</th>\n",
              "      <td>low risk</td>\n",
              "    </tr>\n",
              "    <tr>\n",
              "      <th>236</th>\n",
              "      <td>high risk</td>\n",
              "    </tr>\n",
              "    <tr>\n",
              "      <th>...</th>\n",
              "      <td>...</td>\n",
              "    </tr>\n",
              "    <tr>\n",
              "      <th>570</th>\n",
              "      <td>mid risk</td>\n",
              "    </tr>\n",
              "    <tr>\n",
              "      <th>793</th>\n",
              "      <td>mid risk</td>\n",
              "    </tr>\n",
              "    <tr>\n",
              "      <th>764</th>\n",
              "      <td>mid risk</td>\n",
              "    </tr>\n",
              "    <tr>\n",
              "      <th>237</th>\n",
              "      <td>high risk</td>\n",
              "    </tr>\n",
              "    <tr>\n",
              "      <th>753</th>\n",
              "      <td>mid risk</td>\n",
              "    </tr>\n",
              "  </tbody>\n",
              "</table>\n",
              "<p>203 rows × 1 columns</p>\n",
              "</div>\n",
              "      <button class=\"colab-df-convert\" onclick=\"convertToInteractive('df-b57b0e8a-0cf4-4e29-a32b-37557fd4f953')\"\n",
              "              title=\"Convert this dataframe to an interactive table.\"\n",
              "              style=\"display:none;\">\n",
              "        \n",
              "  <svg xmlns=\"http://www.w3.org/2000/svg\" height=\"24px\"viewBox=\"0 0 24 24\"\n",
              "       width=\"24px\">\n",
              "    <path d=\"M0 0h24v24H0V0z\" fill=\"none\"/>\n",
              "    <path d=\"M18.56 5.44l.94 2.06.94-2.06 2.06-.94-2.06-.94-.94-2.06-.94 2.06-2.06.94zm-11 1L8.5 8.5l.94-2.06 2.06-.94-2.06-.94L8.5 2.5l-.94 2.06-2.06.94zm10 10l.94 2.06.94-2.06 2.06-.94-2.06-.94-.94-2.06-.94 2.06-2.06.94z\"/><path d=\"M17.41 7.96l-1.37-1.37c-.4-.4-.92-.59-1.43-.59-.52 0-1.04.2-1.43.59L10.3 9.45l-7.72 7.72c-.78.78-.78 2.05 0 2.83L4 21.41c.39.39.9.59 1.41.59.51 0 1.02-.2 1.41-.59l7.78-7.78 2.81-2.81c.8-.78.8-2.07 0-2.86zM5.41 20L4 18.59l7.72-7.72 1.47 1.35L5.41 20z\"/>\n",
              "  </svg>\n",
              "      </button>\n",
              "      \n",
              "  <style>\n",
              "    .colab-df-container {\n",
              "      display:flex;\n",
              "      flex-wrap:wrap;\n",
              "      gap: 12px;\n",
              "    }\n",
              "\n",
              "    .colab-df-convert {\n",
              "      background-color: #E8F0FE;\n",
              "      border: none;\n",
              "      border-radius: 50%;\n",
              "      cursor: pointer;\n",
              "      display: none;\n",
              "      fill: #1967D2;\n",
              "      height: 32px;\n",
              "      padding: 0 0 0 0;\n",
              "      width: 32px;\n",
              "    }\n",
              "\n",
              "    .colab-df-convert:hover {\n",
              "      background-color: #E2EBFA;\n",
              "      box-shadow: 0px 1px 2px rgba(60, 64, 67, 0.3), 0px 1px 3px 1px rgba(60, 64, 67, 0.15);\n",
              "      fill: #174EA6;\n",
              "    }\n",
              "\n",
              "    [theme=dark] .colab-df-convert {\n",
              "      background-color: #3B4455;\n",
              "      fill: #D2E3FC;\n",
              "    }\n",
              "\n",
              "    [theme=dark] .colab-df-convert:hover {\n",
              "      background-color: #434B5C;\n",
              "      box-shadow: 0px 1px 3px 1px rgba(0, 0, 0, 0.15);\n",
              "      filter: drop-shadow(0px 1px 2px rgba(0, 0, 0, 0.3));\n",
              "      fill: #FFFFFF;\n",
              "    }\n",
              "  </style>\n",
              "\n",
              "      <script>\n",
              "        const buttonEl =\n",
              "          document.querySelector('#df-b57b0e8a-0cf4-4e29-a32b-37557fd4f953 button.colab-df-convert');\n",
              "        buttonEl.style.display =\n",
              "          google.colab.kernel.accessAllowed ? 'block' : 'none';\n",
              "\n",
              "        async function convertToInteractive(key) {\n",
              "          const element = document.querySelector('#df-b57b0e8a-0cf4-4e29-a32b-37557fd4f953');\n",
              "          const dataTable =\n",
              "            await google.colab.kernel.invokeFunction('convertToInteractive',\n",
              "                                                     [key], {});\n",
              "          if (!dataTable) return;\n",
              "\n",
              "          const docLinkHtml = 'Like what you see? Visit the ' +\n",
              "            '<a target=\"_blank\" href=https://colab.research.google.com/notebooks/data_table.ipynb>data table notebook</a>'\n",
              "            + ' to learn more about interactive tables.';\n",
              "          element.innerHTML = '';\n",
              "          dataTable['output_type'] = 'display_data';\n",
              "          await google.colab.output.renderOutput(dataTable, element);\n",
              "          const docLink = document.createElement('div');\n",
              "          docLink.innerHTML = docLinkHtml;\n",
              "          element.appendChild(docLink);\n",
              "        }\n",
              "      </script>\n",
              "    </div>\n",
              "  </div>\n",
              "  "
            ]
          },
          "metadata": {},
          "execution_count": 11
        }
      ]
    },
    {
      "cell_type": "code",
      "source": [
        "clf.score(x_train,y_train)"
      ],
      "metadata": {
        "colab": {
          "base_uri": "https://localhost:8080/"
        },
        "id": "AgxKqXQxsxka",
        "outputId": "86883b00-a6ae-48f6-ebc5-f455a027afbb"
      },
      "execution_count": null,
      "outputs": [
        {
          "output_type": "execute_result",
          "data": {
            "text/plain": [
              "0.9247842170160296"
            ]
          },
          "metadata": {},
          "execution_count": 12
        }
      ]
    },
    {
      "cell_type": "code",
      "source": [
        "y_pred =  clf.predict(x_test)"
      ],
      "metadata": {
        "id": "XJjFac1RzfuX"
      },
      "execution_count": null,
      "outputs": []
    },
    {
      "cell_type": "code",
      "source": [
        "y_pred"
      ],
      "metadata": {
        "colab": {
          "base_uri": "https://localhost:8080/"
        },
        "id": "Ogat3FWY4PA8",
        "outputId": "4f47643f-43e7-47f7-f0e1-2c9075e7918f"
      },
      "execution_count": null,
      "outputs": [
        {
          "output_type": "execute_result",
          "data": {
            "text/plain": [
              "array(['mid risk', 'mid risk', 'mid risk', 'low risk', 'high risk',\n",
              "       'mid risk', 'mid risk', 'low risk', 'high risk', 'low risk',\n",
              "       'low risk', 'low risk', 'low risk', 'high risk', 'low risk',\n",
              "       'high risk', 'high risk', 'high risk', 'high risk', 'mid risk',\n",
              "       'low risk', 'mid risk', 'high risk', 'mid risk', 'mid risk',\n",
              "       'mid risk', 'low risk', 'mid risk', 'mid risk', 'low risk',\n",
              "       'high risk', 'low risk', 'high risk', 'mid risk', 'high risk',\n",
              "       'low risk', 'low risk', 'mid risk', 'mid risk', 'low risk',\n",
              "       'high risk', 'mid risk', 'high risk', 'mid risk', 'mid risk',\n",
              "       'low risk', 'high risk', 'low risk', 'low risk', 'mid risk',\n",
              "       'low risk', 'mid risk', 'mid risk', 'mid risk', 'low risk',\n",
              "       'high risk', 'mid risk', 'mid risk', 'low risk', 'low risk',\n",
              "       'high risk', 'low risk', 'low risk', 'mid risk', 'low risk',\n",
              "       'mid risk', 'low risk', 'mid risk', 'low risk', 'mid risk',\n",
              "       'low risk', 'high risk', 'low risk', 'low risk', 'mid risk',\n",
              "       'low risk', 'high risk', 'high risk', 'mid risk', 'high risk',\n",
              "       'low risk', 'mid risk', 'mid risk', 'high risk', 'high risk',\n",
              "       'high risk', 'high risk', 'low risk', 'mid risk', 'high risk',\n",
              "       'low risk', 'mid risk', 'high risk', 'low risk', 'low risk',\n",
              "       'low risk', 'mid risk', 'low risk', 'low risk', 'mid risk',\n",
              "       'high risk', 'low risk', 'mid risk', 'mid risk', 'low risk',\n",
              "       'high risk', 'mid risk', 'low risk', 'low risk', 'low risk',\n",
              "       'low risk', 'low risk', 'low risk', 'high risk', 'mid risk',\n",
              "       'low risk', 'high risk', 'high risk', 'high risk', 'low risk',\n",
              "       'low risk', 'mid risk', 'mid risk', 'mid risk', 'low risk',\n",
              "       'high risk', 'mid risk', 'mid risk', 'low risk', 'mid risk',\n",
              "       'low risk', 'high risk', 'low risk', 'low risk', 'low risk',\n",
              "       'low risk', 'low risk', 'low risk', 'mid risk', 'low risk',\n",
              "       'mid risk', 'low risk', 'low risk', 'mid risk', 'high risk',\n",
              "       'high risk', 'mid risk', 'mid risk', 'low risk', 'low risk',\n",
              "       'mid risk', 'low risk', 'high risk', 'low risk', 'low risk',\n",
              "       'mid risk', 'mid risk', 'low risk', 'low risk', 'mid risk',\n",
              "       'mid risk', 'high risk', 'mid risk', 'high risk', 'high risk',\n",
              "       'low risk', 'high risk', 'high risk', 'high risk', 'mid risk',\n",
              "       'low risk', 'low risk', 'low risk', 'low risk', 'mid risk',\n",
              "       'low risk', 'high risk', 'mid risk', 'mid risk', 'mid risk',\n",
              "       'high risk', 'low risk', 'low risk', 'mid risk', 'high risk',\n",
              "       'mid risk', 'low risk', 'mid risk', 'mid risk', 'mid risk',\n",
              "       'high risk', 'low risk', 'low risk', 'low risk', 'low risk',\n",
              "       'high risk', 'low risk', 'mid risk', 'mid risk', 'low risk',\n",
              "       'mid risk', 'high risk', 'mid risk'], dtype=object)"
            ]
          },
          "metadata": {},
          "execution_count": 14
        }
      ]
    },
    {
      "cell_type": "code",
      "source": [
        "print(confusion_matrix(y_test, y_pred))"
      ],
      "metadata": {
        "colab": {
          "base_uri": "https://localhost:8080/"
        },
        "id": "cpygxt_j62Kt",
        "outputId": "adb463f9-0b14-4863-d016-54d37e4a741f"
      },
      "execution_count": null,
      "outputs": [
        {
          "output_type": "stream",
          "name": "stdout",
          "text": [
            "[[45  1  7]\n",
            " [ 1 75 12]\n",
            " [ 3  7 52]]\n"
          ]
        }
      ]
    },
    {
      "cell_type": "code",
      "source": [
        "print(classification_report(y_test, y_pred))"
      ],
      "metadata": {
        "colab": {
          "base_uri": "https://localhost:8080/"
        },
        "id": "qPkpTlpK7_Rj",
        "outputId": "fcdde90a-b5c2-4e5e-bcae-30ad873c45dc"
      },
      "execution_count": null,
      "outputs": [
        {
          "output_type": "stream",
          "name": "stdout",
          "text": [
            "              precision    recall  f1-score   support\n",
            "\n",
            "   high risk       0.92      0.85      0.88        53\n",
            "    low risk       0.90      0.85      0.88        88\n",
            "    mid risk       0.73      0.84      0.78        62\n",
            "\n",
            "    accuracy                           0.85       203\n",
            "   macro avg       0.85      0.85      0.85       203\n",
            "weighted avg       0.86      0.85      0.85       203\n",
            "\n"
          ]
        }
      ]
    },
    {
      "cell_type": "markdown",
      "source": [],
      "metadata": {
        "id": "z_b_ObRG8sXx"
      }
    },
    {
      "cell_type": "code",
      "source": [
        "from sklearn.metrics import plot_roc_curve"
      ],
      "metadata": {
        "id": "dw530giy8Z5f"
      },
      "execution_count": null,
      "outputs": []
    },
    {
      "cell_type": "markdown",
      "source": [
        "# K near neighbour"
      ],
      "metadata": {
        "id": "Y9DvqZMIlcaA"
      }
    },
    {
      "cell_type": "code",
      "source": [
        "import matplotlib.pyplot as plt\n"
      ],
      "metadata": {
        "id": "onZZZUUQg-WR"
      },
      "execution_count": null,
      "outputs": []
    },
    {
      "cell_type": "code",
      "source": [
        "from sklearn.preprocessing import StandardScaler\n",
        "scaler=StandardScaler()\n",
        "scaler.fit(x_train)\n",
        "x_train=scaler.transform(x_train)\n",
        "x_test=scaler.transform(x_test)"
      ],
      "metadata": {
        "id": "5UZX2K7q-f93"
      },
      "execution_count": null,
      "outputs": []
    },
    {
      "cell_type": "code",
      "source": [
        "from sklearn.neighbors import KNeighborsClassifier\n",
        "classifier=KNeighborsClassifier(n_neighbors=5)\n",
        "classifier.fit(x_train,y_train)"
      ],
      "metadata": {
        "colab": {
          "base_uri": "https://localhost:8080/"
        },
        "id": "YrI1j02kiINY",
        "outputId": "bac8b349-2eb0-43b9-bd4e-37e004c771a9"
      },
      "execution_count": null,
      "outputs": [
        {
          "output_type": "stream",
          "name": "stderr",
          "text": [
            "/usr/local/lib/python3.8/dist-packages/sklearn/neighbors/_classification.py:198: DataConversionWarning: A column-vector y was passed when a 1d array was expected. Please change the shape of y to (n_samples,), for example using ravel().\n",
            "  return self._fit(X, y)\n"
          ]
        },
        {
          "output_type": "execute_result",
          "data": {
            "text/plain": [
              "KNeighborsClassifier()"
            ]
          },
          "metadata": {},
          "execution_count": 20
        }
      ]
    },
    {
      "cell_type": "code",
      "source": [
        "y_pred=classifier.predict(x_test)"
      ],
      "metadata": {
        "id": "oVwxy5vXkJol"
      },
      "execution_count": null,
      "outputs": []
    },
    {
      "cell_type": "code",
      "source": [
        "y_pred"
      ],
      "metadata": {
        "colab": {
          "base_uri": "https://localhost:8080/"
        },
        "id": "w08f2WFNk7Fc",
        "outputId": "5e445517-7836-46c5-f293-e8a5b5066bc8"
      },
      "execution_count": null,
      "outputs": [
        {
          "output_type": "execute_result",
          "data": {
            "text/plain": [
              "array(['mid risk', 'mid risk', 'mid risk', 'mid risk', 'high risk',\n",
              "       'mid risk', 'low risk', 'mid risk', 'mid risk', 'low risk',\n",
              "       'low risk', 'low risk', 'low risk', 'high risk', 'low risk',\n",
              "       'high risk', 'mid risk', 'high risk', 'high risk', 'mid risk',\n",
              "       'mid risk', 'mid risk', 'high risk', 'mid risk', 'low risk',\n",
              "       'mid risk', 'mid risk', 'mid risk', 'mid risk', 'low risk',\n",
              "       'high risk', 'mid risk', 'high risk', 'mid risk', 'high risk',\n",
              "       'low risk', 'low risk', 'mid risk', 'mid risk', 'low risk',\n",
              "       'high risk', 'low risk', 'high risk', 'mid risk', 'low risk',\n",
              "       'mid risk', 'high risk', 'low risk', 'low risk', 'low risk',\n",
              "       'high risk', 'mid risk', 'low risk', 'mid risk', 'low risk',\n",
              "       'high risk', 'high risk', 'low risk', 'low risk', 'low risk',\n",
              "       'high risk', 'low risk', 'low risk', 'mid risk', 'high risk',\n",
              "       'mid risk', 'mid risk', 'mid risk', 'mid risk', 'mid risk',\n",
              "       'low risk', 'high risk', 'low risk', 'low risk', 'low risk',\n",
              "       'low risk', 'mid risk', 'high risk', 'mid risk', 'high risk',\n",
              "       'low risk', 'high risk', 'low risk', 'mid risk', 'mid risk',\n",
              "       'high risk', 'high risk', 'low risk', 'mid risk', 'high risk',\n",
              "       'low risk', 'mid risk', 'high risk', 'mid risk', 'low risk',\n",
              "       'low risk', 'mid risk', 'low risk', 'low risk', 'mid risk',\n",
              "       'high risk', 'mid risk', 'mid risk', 'low risk', 'low risk',\n",
              "       'high risk', 'mid risk', 'mid risk', 'low risk', 'low risk',\n",
              "       'low risk', 'mid risk', 'low risk', 'high risk', 'mid risk',\n",
              "       'low risk', 'high risk', 'high risk', 'low risk', 'low risk',\n",
              "       'low risk', 'mid risk', 'mid risk', 'mid risk', 'low risk',\n",
              "       'high risk', 'mid risk', 'mid risk', 'low risk', 'low risk',\n",
              "       'low risk', 'high risk', 'low risk', 'low risk', 'mid risk',\n",
              "       'low risk', 'low risk', 'low risk', 'low risk', 'low risk',\n",
              "       'mid risk', 'low risk', 'mid risk', 'low risk', 'low risk',\n",
              "       'high risk', 'mid risk', 'mid risk', 'low risk', 'low risk',\n",
              "       'low risk', 'mid risk', 'high risk', 'low risk', 'mid risk',\n",
              "       'mid risk', 'mid risk', 'low risk', 'high risk', 'mid risk',\n",
              "       'low risk', 'mid risk', 'high risk', 'high risk', 'high risk',\n",
              "       'low risk', 'high risk', 'low risk', 'high risk', 'low risk',\n",
              "       'low risk', 'low risk', 'low risk', 'high risk', 'mid risk',\n",
              "       'low risk', 'mid risk', 'mid risk', 'mid risk', 'mid risk',\n",
              "       'high risk', 'mid risk', 'low risk', 'low risk', 'high risk',\n",
              "       'mid risk', 'low risk', 'low risk', 'mid risk', 'mid risk',\n",
              "       'high risk', 'low risk', 'low risk', 'low risk', 'low risk',\n",
              "       'mid risk', 'low risk', 'low risk', 'mid risk', 'low risk',\n",
              "       'mid risk', 'high risk', 'mid risk'], dtype=object)"
            ]
          },
          "metadata": {},
          "execution_count": 22
        }
      ]
    },
    {
      "cell_type": "code",
      "source": [
        "print(confusion_matrix(y_test, y_pred))"
      ],
      "metadata": {
        "colab": {
          "base_uri": "https://localhost:8080/"
        },
        "id": "m6nNlfxJk96C",
        "outputId": "ae71ae38-d82c-48cd-98ba-d0e88234a7e3"
      },
      "execution_count": null,
      "outputs": [
        {
          "output_type": "stream",
          "name": "stdout",
          "text": [
            "[[39  5  9]\n",
            " [ 4 63 21]\n",
            " [ 2 16 44]]\n"
          ]
        }
      ]
    },
    {
      "cell_type": "code",
      "source": [
        "print(classification_report(y_test, y_pred))"
      ],
      "metadata": {
        "colab": {
          "base_uri": "https://localhost:8080/"
        },
        "id": "ypPn5QpXlNJQ",
        "outputId": "19514ef1-b527-4ea1-8297-024b79f13cd2"
      },
      "execution_count": null,
      "outputs": [
        {
          "output_type": "stream",
          "name": "stdout",
          "text": [
            "              precision    recall  f1-score   support\n",
            "\n",
            "   high risk       0.87      0.74      0.80        53\n",
            "    low risk       0.75      0.72      0.73        88\n",
            "    mid risk       0.59      0.71      0.65        62\n",
            "\n",
            "    accuracy                           0.72       203\n",
            "   macro avg       0.74      0.72      0.73       203\n",
            "weighted avg       0.73      0.72      0.72       203\n",
            "\n"
          ]
        }
      ]
    },
    {
      "cell_type": "code",
      "source": [
        "classifier.score(x_train,y_train)"
      ],
      "metadata": {
        "colab": {
          "base_uri": "https://localhost:8080/"
        },
        "id": "sCZs_3KmlXwi",
        "outputId": "5b8c8833-4164-4a6c-f1be-0ef67a6e0214"
      },
      "execution_count": null,
      "outputs": [
        {
          "output_type": "execute_result",
          "data": {
            "text/plain": [
              "0.781750924784217"
            ]
          },
          "metadata": {},
          "execution_count": 25
        }
      ]
    },
    {
      "cell_type": "code",
      "source": [],
      "metadata": {
        "id": "G8DlIQS4lqJS"
      },
      "execution_count": null,
      "outputs": []
    }
  ]
}